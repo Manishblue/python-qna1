{
 "cells": [
  {
   "cell_type": "code",
   "execution_count": 1,
   "id": "5706de4a-c063-4458-863a-be71b10b7e65",
   "metadata": {},
   "outputs": [],
   "source": [
    "# q1 who developed python programming language"
   ]
  },
  {
   "cell_type": "code",
   "execution_count": 3,
   "id": "5d276b69-7da9-492e-a5bc-55e735df793d",
   "metadata": {},
   "outputs": [],
   "source": [
    "\n",
    "# # Python programming language was created by Guido van Rossum. He started working on Python in the late 1980s,\n",
    "# and the first official release, Python 0.9.0, was released in February 1991. Guido van Rossum continued \n",
    "# to lead the development of Python until he stepped down as the \"Benevolent Dictator For Life\" (BDFL) in July 2018. Python development is now carried out by a\n",
    "# community of volunteers."
   ]
  },
  {
   "cell_type": "code",
   "execution_count": 4,
   "id": "5bc0d96f-1fa2-476b-a6e4-7a07c8d8a8bb",
   "metadata": {},
   "outputs": [],
   "source": [
    "\n",
    "# q2 Which type of programming does python support\n",
    "# ChatGPT\n"
   ]
  },
  {
   "cell_type": "code",
   "execution_count": 5,
   "id": "0f6f80f4-a38f-4fb7-ba45-f1131d58ace8",
   "metadata": {},
   "outputs": [],
   "source": [
    "# Python is a versatile programming language that supports multiple programming paradigms. The main programming paradigms supported by Python include:\n",
    "\n",
    "# Imperative/Procedural Programming: Python allows you to write code in a step-by-step, procedural manner.\n",
    "\n",
    "# Object-Oriented Programming (OOP): Python supports object-oriented programming, allowing you to define classes and create objects with associated attributes and methods.\n",
    "\n",
    "# Functional Programming: Python includes features of functional programming, such as the ability to pass functions as arguments to other functions, use of higher-order functions, and support for lambda expressions.\n",
    "\n",
    "# Structured Programming: Python supports structured programming with the use of functions and modules.\n",
    "\n",
    "# Scripting: Python is often used as a scripting language for automating tasks and writing quick, small programs.\n",
    "\n",
    "# The flexibility and versatility of Python make it suitable for a wide range of applications and development styles. Developers can choose the programming paradigm that best fits their needs for a particular project."
   ]
  },
  {
   "cell_type": "code",
   "execution_count": 6,
   "id": "fdc6cc7f-8b46-458b-9cf8-b477389993f1",
   "metadata": {},
   "outputs": [],
   "source": [
    "# q3 is python case sensitive when dealing with identifiers"
   ]
  },
  {
   "cell_type": "code",
   "execution_count": 7,
   "id": "d48b5f75-3826-4f6b-8e46-dfae42529bc7",
   "metadata": {},
   "outputs": [],
   "source": [
    "# # Yes, Python is case-sensitive when dealing with identifiers. This means that \n",
    "# variables, functions, classes, and other identifiers in Python are distinguished \n",
    "# by their case. For example, the variables myVar, myvar, and MYVAR would be \n",
    "# considered as three different variables."
   ]
  },
  {
   "cell_type": "code",
   "execution_count": 8,
   "id": "da90d4c2-c472-42e6-b2cd-b21e03785178",
   "metadata": {},
   "outputs": [
    {
     "name": "stdout",
     "output_type": "stream",
     "text": [
      "42\n",
      "Hello\n"
     ]
    }
   ],
   "source": [
    "variable1 = 42\n",
    "Variable1 = \"Hello\"\n",
    "\n",
    "print(variable1)   # Output: 42\n",
    "print(Variable1)   # Output: Hello"
   ]
  },
  {
   "cell_type": "code",
   "execution_count": 9,
   "id": "c6f46728-f7f3-46bf-ac2c-603ccbaaad50",
   "metadata": {},
   "outputs": [],
   "source": [
    "# q4 what is correct extension for python file"
   ]
  },
  {
   "cell_type": "code",
   "execution_count": 11,
   "id": "2636ec15-6513-4bb3-a5a9-8242d66f21ee",
   "metadata": {},
   "outputs": [],
   "source": [
    "# # The correct extension for Python files is .py. When you save a Python script, you should use a file name with the .py extension. For example, a Python script might be named example.py.\n",
    "\n",
    "# # It's a widely adopted convention, and using the .py extension helps both developers and tools \n",
    "# recognize that the file contains Python code. When you run a Python script, you typically use the command python filename.py to execute \n",
    "# the code in the file."
   ]
  },
  {
   "cell_type": "code",
   "execution_count": 12,
   "id": "f3ddcbdd-6905-4c7b-98aa-686fa5b46876",
   "metadata": {},
   "outputs": [],
   "source": [
    "# q5 is python code compiled or interpreted"
   ]
  },
  {
   "cell_type": "code",
   "execution_count": 13,
   "id": "39a5b8fc-a3bd-43b4-b52c-e1f662765309",
   "metadata": {},
   "outputs": [],
   "source": [
    "# Python is often described as an interpreted language, but the reality is a bit more nuanced. Python code is first compiled into an intermediate form known as \"bytecode,\" which is a low-level, platform-independent representation of the source code. This compilation is done by the Python interpreter. The bytecode is then executed by the Python Virtual Machine (PVM).\n",
    "\n",
    "# So, in a sense, Python is both compiled and interpreted:\n",
    "\n",
    "# Compilation: The Python interpreter compiles the source code into bytecode. This process occurs automatically when a Python script is run or imported.\n",
    "\n",
    "# Interpretation: The compiled bytecode is executed by the Python Virtual Machine, which interprets the bytecode and executes the instructions on the host machine.\n",
    "\n",
    "# This combination of compilation and interpretation provides a balance between portability and execution efficiency. It allows Python code to be easily moved between different platforms without the need for recompilation, while still benefiting from some of the performance advantages associated with compiled languages."
   ]
  },
  {
   "cell_type": "code",
   "execution_count": 14,
   "id": "687254ea-6750-482c-ba9b-879877d1bb83",
   "metadata": {},
   "outputs": [],
   "source": [
    "#q6 name few block of code used to define python language"
   ]
  },
  {
   "cell_type": "code",
   "execution_count": 16,
   "id": "5ab406ff-2301-4277-8240-cd356b84ce43",
   "metadata": {},
   "outputs": [],
   "source": [
    "#Function"
   ]
  },
  {
   "cell_type": "code",
   "execution_count": 17,
   "id": "6c1731c9-823b-4965-94aa-41d489d8d491",
   "metadata": {},
   "outputs": [],
   "source": [
    "def my_function(parameter1, parameter2):\n",
    "    # Code inside the function\n",
    "    result = parameter1 + parameter2\n",
    "    return result"
   ]
  },
  {
   "cell_type": "code",
   "execution_count": 18,
   "id": "1e687b3e-0130-49de-8f4f-bcce27c607c0",
   "metadata": {},
   "outputs": [],
   "source": [
    "#Conditional Statements (if-elif-else):"
   ]
  },
  {
   "cell_type": "code",
   "execution_count": 19,
   "id": "1aceec12-1ef4-4cbc-945a-cc9c849bb0b3",
   "metadata": {},
   "outputs": [
    {
     "name": "stdout",
     "output_type": "stream",
     "text": [
      "Positive number\n"
     ]
    }
   ],
   "source": [
    "x = 10\n",
    "if x > 0:\n",
    "    print(\"Positive number\")\n",
    "elif x == 0:\n",
    "    print(\"Zero\")\n",
    "else:\n",
    "    print(\"Negative number\")"
   ]
  },
  {
   "cell_type": "code",
   "execution_count": 20,
   "id": "0c521afa-b69f-4d46-852d-89ecf74333d4",
   "metadata": {},
   "outputs": [],
   "source": [
    "#Looping (for and while):"
   ]
  },
  {
   "cell_type": "code",
   "execution_count": 21,
   "id": "f2dfcb63-7f08-4bc0-a4f9-b6122ff5e45f",
   "metadata": {},
   "outputs": [
    {
     "name": "stdout",
     "output_type": "stream",
     "text": [
      "0\n",
      "1\n",
      "2\n",
      "3\n",
      "4\n",
      "Count: 0\n",
      "Count: 1\n",
      "Count: 2\n"
     ]
    }
   ],
   "source": [
    "# For loop\n",
    "for i in range(5):\n",
    "    print(i)\n",
    "\n",
    "# While loop\n",
    "count = 0\n",
    "while count < 3:\n",
    "    print(\"Count:\", count)\n",
    "    count += 1"
   ]
  },
  {
   "cell_type": "code",
   "execution_count": 22,
   "id": "06052af7-0627-4686-a73d-81f4ab6ec1b5",
   "metadata": {},
   "outputs": [],
   "source": [
    "#Class Definition (Object-Oriented Programming):\n",
    "\n"
   ]
  },
  {
   "cell_type": "code",
   "execution_count": 23,
   "id": "db849d57-e06a-4e8b-93f1-5a5edcbded4c",
   "metadata": {},
   "outputs": [],
   "source": [
    "class MyClass:\n",
    "    def __init__(self, attribute1, attribute2):\n",
    "        self.attribute1 = attribute1\n",
    "        self.attribute2 = attribute2\n",
    "\n",
    "    def my_method(self):\n",
    "        # Code inside the method\n",
    "        print(\"Method called\")\n"
   ]
  },
  {
   "cell_type": "code",
   "execution_count": 24,
   "id": "32075c8c-458f-43d7-9a12-4582326f3ee2",
   "metadata": {},
   "outputs": [],
   "source": [
    "#Exception Handling (try-except):"
   ]
  },
  {
   "cell_type": "code",
   "execution_count": 25,
   "id": "8d1b9013-9a33-4946-b6c7-c36010a393f4",
   "metadata": {},
   "outputs": [
    {
     "name": "stdout",
     "output_type": "stream",
     "text": [
      "Cannot divide by zero\n"
     ]
    }
   ],
   "source": [
    "try:\n",
    "    result = 10 / 0\n",
    "except ZeroDivisionError:\n",
    "    print(\"Cannot divide by zero\")"
   ]
  },
  {
   "cell_type": "code",
   "execution_count": 26,
   "id": "8bd8c76c-871d-4ffe-aea5-91b1ddcd00ec",
   "metadata": {},
   "outputs": [],
   "source": [
    "#q7 state character used to give single line comment in python\n",
    "\n"
   ]
  },
  {
   "cell_type": "code",
   "execution_count": 27,
   "id": "27b4df68-3702-4427-b169-f03aceefedbc",
   "metadata": {},
   "outputs": [],
   "source": [
    "# In Python, the character used to indicate a single-line comment is the hash symbol (#). Any text following the # on a line is treated as a comment and is ignored by the Python interpreter"
   ]
  },
  {
   "cell_type": "code",
   "execution_count": 28,
   "id": "dc5de432-521a-4350-8947-6c50df12585e",
   "metadata": {},
   "outputs": [
    {
     "name": "stdout",
     "output_type": "stream",
     "text": [
      "Hello, World!\n"
     ]
    }
   ],
   "source": [
    "# This is a single-line comment\n",
    "\n",
    "print(\"Hello, World!\")  # This is also a comment on the same line as code"
   ]
  },
  {
   "cell_type": "code",
   "execution_count": 29,
   "id": "ed62520d-76d8-4cd2-a574-b6f1f193494f",
   "metadata": {},
   "outputs": [],
   "source": [
    "#q8 mention function which helps us to find current working python\n",
    "\n"
   ]
  },
  {
   "cell_type": "code",
   "execution_count": 30,
   "id": "234c4dee-453a-404b-937c-5044e1000557",
   "metadata": {},
   "outputs": [],
   "source": [
    "# In Python, you can use the os module to find the current working directory. The function you would use is os.getcwd()."
   ]
  },
  {
   "cell_type": "code",
   "execution_count": 31,
   "id": "acef770f-a835-48ba-a268-f1fb5d3cc8a3",
   "metadata": {},
   "outputs": [
    {
     "name": "stdout",
     "output_type": "stream",
     "text": [
      "Current Working Directory: /home/jovyan/work\n"
     ]
    }
   ],
   "source": [
    "import os\n",
    "\n",
    "# Get the current working directory\n",
    "current_directory = os.getcwd()\n",
    "\n",
    "print(\"Current Working Directory:\", current_directory)"
   ]
  },
  {
   "cell_type": "code",
   "execution_count": 32,
   "id": "110ed0a0-c29c-4f52-8f4d-03035026417b",
   "metadata": {},
   "outputs": [],
   "source": [
    "# q9 python support creation  ananoymus function at run timt using construct called "
   ]
  },
  {
   "cell_type": "code",
   "execution_count": 33,
   "id": "7737b5ea-9ec8-49e2-8eee-9a987119d6d4",
   "metadata": {},
   "outputs": [],
   "source": [
    "\n",
    "# In Python, you can create anonymous functions at runtime using a construct called \"lambda\" functions. Lambda functions are small, unnamed functions defined using the lambda keyword. They are often used for short, simple operations."
   ]
  },
  {
   "cell_type": "code",
   "execution_count": 34,
   "id": "ff4ea536-75ef-42b7-a738-404c94eb7ae7",
   "metadata": {},
   "outputs": [
    {
     "name": "stdout",
     "output_type": "stream",
     "text": [
      "8\n"
     ]
    }
   ],
   "source": [
    "# Define a lambda function that adds two numbers\n",
    "add = lambda x, y: x + y\n",
    "\n",
    "# Use the lambda function\n",
    "result = add(3, 5)\n",
    "print(result) "
   ]
  },
  {
   "cell_type": "code",
   "execution_count": 35,
   "id": "9f9d95e4-172a-4a38-adca-fc397692a187",
   "metadata": {},
   "outputs": [],
   "source": [
    "# Lambda functions are commonly used in scenarios where a short, simple function is needed temporarily and doesn't require a formal function definition using def. They are often employed in functions like map(), filter(), and sorted().\n",
    "\n",
    "# Keep in mind that lambda functions are limited in their capabilities compared to named functions defined with def, and they are best suited for small tasks."
   ]
  },
  {
   "cell_type": "code",
   "execution_count": 36,
   "id": "dca13ead-0be8-47e9-b706-f32762818ba0",
   "metadata": {},
   "outputs": [],
   "source": [
    "#q10  what does for pip stands for "
   ]
  },
  {
   "cell_type": "code",
   "execution_count": 37,
   "id": "55bb9985-026a-471a-9787-e0f0aff01eca",
   "metadata": {},
   "outputs": [],
   "source": [
    "\n",
    "# \"pip\" stands for \"Pip Installs Packages.\" Pip is the package installer for Python, and it is used to install and manage Python packages, which are collections of modules and scripts that extend the functionality of Python.\n",
    "\n",
    "# With pip, you can easily install third-party libraries, frameworks, and tools that are not part of the Python standard library. It simplifies the process of managing dependencies and helps Python developers easily incorporate external code into their projects.\n",
    "\n",
    "# Common pip commands include:\n",
    "\n",
    "# pip install package_name: Installs a Python package.\n",
    "# pip uninstall package_name: Uninstalls a Python package.\n",
    "# pip freeze: Outputs the list of installed packages and their versions.\n",
    "# pip install -r requirements.txt: Installs packages listed in a requirements file.\n",
    "# Pip is an essential tool in the Python ecosystem and plays a crucial role in the development and distribution of Python software."
   ]
  },
  {
   "cell_type": "code",
   "execution_count": 38,
   "id": "6a25edfa-a489-4e5d-9cd6-b71718b3aa65",
   "metadata": {},
   "outputs": [],
   "source": [
    "# q11 mention few built in function in python"
   ]
  },
  {
   "cell_type": "code",
   "execution_count": 42,
   "id": "a55104e6-4ae6-41c1-8c40-f6ba62c5d996",
   "metadata": {},
   "outputs": [
    {
     "name": "stdout",
     "output_type": "stream",
     "text": [
      "Hello, World!\n",
      "<class 'int'>\n"
     ]
    },
    {
     "name": "stdin",
     "output_type": "stream",
     "text": [
      "Enter something:  098 nmk\n"
     ]
    }
   ],
   "source": [
    "#Python comes with a variety of built-in functions that provide essential functionality. Here are a few commonly used built-in functions in Python:\n",
    "\n",
    "#print(): Prints the specified value or values to the console.\n",
    "\n",
    "#python\n",
    "#Copy code\n",
    "print(\"Hello, World!\")\n",
    "#len(): Returns the length (the number of items) of an object.\n",
    "\n",
    "#python\n",
    "#Copy code\n",
    "my_list = [1, 2, 3, 4, 5]\n",
    "length = len(my_list)\n",
    "#type(): Returns the type of an object.\n",
    "\n",
    "#python\n",
    "#Copy code\n",
    "x = 5\n",
    "print(type(x))  # Output: <class 'int'>\n",
    "#input(): Reads a line from the console and returns it as a string.\n",
    "\n",
    "#python\n",
    "#Copy code\n",
    "user_input = input(\"Enter something: \")\n",
    "#range(): Generates a sequence of numbers within a specified range.\n",
    "\n",
    "#python\n",
    "#Copy code\n",
    "numbers = list(range(5, 10))\n",
    "#sum(): Returns the sum of all items in an iterable.\n",
    "\n",
    "#python\n",
    "#Copy code\n",
    "my_list = [1, 2, 3, 4, 5]\n",
    "total = sum(my_list)\n",
    "#max(): Returns the largest item in an iterable or the largest of two or more arguments.\n",
    "\n",
    "#python\n",
    "#Copy code\n",
    "max_value = max(3, 7, 1, 9)\n",
    "#min(): Returns the smallest item in an iterable or the smallest of two or more arguments.\n",
    "\n",
    "#python\n",
    "#Copy code\n",
    "min_value = min(3, 7, 1, 9)\n",
    "#abs(): Returns the absolute value of a number.\n",
    "\n",
    "#python\n",
    "#Copy code\n",
    "absolute_value = abs(-10)\n",
    "#round(): Rounds a number to the nearest integer or a specified number of decimals.\n",
    "\n",
    "#python\n",
    "#Copy code\n",
    "rounded_number = round(3.14159, 2)  # Rounds to two decimal places"
   ]
  },
  {
   "cell_type": "code",
   "execution_count": 43,
   "id": "21761097-bf44-4f61-b482-058a315b1ff4",
   "metadata": {},
   "outputs": [],
   "source": [
    "#q12 what is max possible length of identifier in python"
   ]
  },
  {
   "cell_type": "code",
   "execution_count": 44,
   "id": "b28356cc-525e-46e3-8a10-c0a7f57ebeeb",
   "metadata": {},
   "outputs": [],
   "source": [
    "\n",
    "# In Python, the maximum length of an identifier (variable name, function name, etc.) is not explicitly defined. However, it is practically limited by the maximum size of a Python string, which is determined by the available system memory.\n",
    "\n",
    "# In Python 3.7 and later versions, the sys.maxsize constant represents the maximum positive integer value that can be held by the Py_ssize_t type, which is used for indexing and lengths. This value is implementation-dependent and is platform-specific. In most practical cases, it is very large."
   ]
  },
  {
   "cell_type": "code",
   "execution_count": 45,
   "id": "595bc966-3c46-400a-b14d-047b42f041c6",
   "metadata": {},
   "outputs": [
    {
     "name": "stdout",
     "output_type": "stream",
     "text": [
      "Maximum identifier length: 9223372036854775807\n"
     ]
    }
   ],
   "source": [
    "import sys\n",
    "\n",
    "max_identifier_length = sys.maxsize\n",
    "print(\"Maximum identifier length:\", max_identifier_length)"
   ]
  },
  {
   "cell_type": "code",
   "execution_count": 46,
   "id": "d1d5d741-4630-4422-a22a-e282b936f2d6",
   "metadata": {},
   "outputs": [],
   "source": [
    "#q13 what are benefit of using python"
   ]
  },
  {
   "cell_type": "code",
   "execution_count": 47,
   "id": "d29877d0-f1e4-457e-a33d-b5c4b7b67ece",
   "metadata": {},
   "outputs": [],
   "source": [
    "# Python is a popular programming language with a wide range of benefits, making it suitable for various applications. Here are some of the key advantages of using Python:\n",
    "\n",
    "# Readability and Simplicity:\n",
    "\n",
    "# Python's syntax is designed to be clear and readable, emphasizing code readability and reducing the cost of program maintenance.\n",
    "# The use of whitespace (indentation) for code blocks encourages a clean and consistent coding style.\n",
    "# Extensive Libraries and Frameworks:\n",
    "\n",
    "# Python has a vast standard library that includes modules and packages for a wide range of tasks, making development faster and more efficient.\n",
    "# There are numerous third-party libraries and frameworks, such as NumPy, Pandas, Django, Flask, and TensorFlow, for specific domains and applications.\n",
    "# Versatility and Flexibility:\n",
    "\n",
    "# Python is a versatile language suitable for various types of applications, including web development, data analysis, machine learning, artificial intelligence, scientific computing, automation, and more.\n",
    "# It supports both procedural and object-oriented programming paradigms.\n",
    "# Community and Support:\n",
    "\n",
    "# Python has a large and active community of developers, which means ample resources, tutorials, and support are available.\n",
    "# The community contributes to the development of new libraries, frameworks, and tools, fostering a collaborative environment.\n",
    "# Cross-Platform Compatibility:\n",
    "\n",
    "# Python is cross-platform, meaning Python code can run on different operating systems without modification.\n",
    "# This feature is particularly useful for writing code that can be easily deployed on various environments.\n",
    "# Rapid Development and Prototyping:\n",
    "\n",
    "# Python's simplicity and ease of use contribute to rapid development and prototyping.\n",
    "# With concise syntax and dynamic typing, developers can quickly implement ideas and iterate through different solutions.\n",
    "# Integration Capabilities:\n",
    "\n",
    "# Python can be easily integrated with other languages like C and C++, allowing developers to use existing code and libraries written in those languages.\n",
    "# It supports integration with databases, web services, and various protocols.\n",
    "# High-Level Language:\n",
    "\n",
    "# Python is a high-level language with automatic memory management, making it easier to focus on solving problems without getting bogged down in low-level details.\n",
    "# Open Source and Free:\n",
    "\n",
    "# Python is open-source, and its community-driven development model ensures that it remains free and accessible to everyone.\n",
    "# Wide Adoption in Industry:\n",
    "\n",
    "# Python is widely adopted in various industries and is the language of choice for many companies and organizations, increasing the demand for Python developers."
   ]
  },
  {
   "cell_type": "code",
   "execution_count": 48,
   "id": "e00188cf-4945-449f-8195-e1bf8bff2ada",
   "metadata": {},
   "outputs": [],
   "source": [
    "#q14 how memory managed in python "
   ]
  },
  {
   "cell_type": "code",
   "execution_count": 49,
   "id": "74938753-736f-4b71-ae28-03efa107f3f2",
   "metadata": {},
   "outputs": [],
   "source": [
    "# Memory management in Python is automatic and is handled by a component known as the \"Python Memory Manager.\" Here are some key aspects of memory management in Python:\n",
    "\n",
    "# Automatic Memory Allocation and Deallocation:\n",
    "\n",
    "# Python uses a dynamic type system, and memory is allocated as needed to store variables and data structures.\n",
    "# Memory deallocation is handled automatically through a mechanism called \"garbage collection,\" which identifies and reclaims memory that is no longer in use.\n",
    "# Reference Counting:\n",
    "\n",
    "# The primary mechanism for tracking object lifetimes in Python is reference counting.\n",
    "# Each object in Python has a reference count, which is the number of references pointing to that object.\n",
    "# When an object is created, its reference count is set to 1. When a reference to the object is created, the reference count is incremented. When a reference is deleted or goes out of scope, the reference count is decremented.\n",
    "# When the reference count drops to zero, meaning there are no more references to the object, the memory occupied by the object is released.\n",
    "# Garbage Collection:\n",
    "\n",
    "# While reference counting is efficient for many cases, it may not handle cyclic references (e.g., when two or more objects reference each other in a loop).\n",
    "# Python includes a cyclic garbage collector that can identify and collect cyclically referenced objects.\n",
    "# The garbage collector runs periodically and is responsible for identifying and freeing up memory occupied by objects with zero reference counts.\n",
    "# Memory Pools:\n",
    "\n",
    "# Python manages memory in the form of \"pools,\" where small objects of a similar size are grouped together.\n",
    "# There are separate pools for different types of objects (e.g., integers, strings).\n",
    "# Memory pools help reduce fragmentation and improve memory allocation performance.\n",
    "# Memory Optimizations:\n",
    "\n",
    "# Python employs various memory optimization techniques, such as memory reuse and object pooling, to minimize the overhead associated with memory allocation and deallocation.\n",
    "# Memory Profiling:\n",
    "\n",
    "# Python provides tools for memory profiling, such as the memory_profiler module and third-party tools, allowing developers to analyze and optimize memory usage in their programs.\n",
    "# While automatic memory management in Python simplifies many aspects of development, it's important for developers to be aware of memory management principles to write efficient and resource-friendly code. Additionally, profiling tools can be used to identify and address memory-related issues in larger applications."
   ]
  },
  {
   "cell_type": "code",
   "execution_count": 50,
   "id": "1720da8e-5449-4ee8-9e15-9bc12fb78771",
   "metadata": {},
   "outputs": [],
   "source": [
    "# q15 how to install pyhton in windows and set path variable"
   ]
  },
  {
   "cell_type": "code",
   "execution_count": 51,
   "id": "51b620cb-5939-4b5f-a04f-d272571a9d55",
   "metadata": {},
   "outputs": [],
   "source": [
    "# Installing Python on Windows and setting the PATH variable involves a few simple steps. Here's a step-by-step guide:\n",
    "\n",
    "# Installation:\n",
    "# Download Python:\n",
    "\n",
    "# Visit the official Python website at https://www.python.org/downloads/.\n",
    "# Choose the latest version of Python for Windows and click on the \"Download\" button.\n",
    "# Run the Installer:\n",
    "\n",
    "# Once the installer is downloaded, run it.\n",
    "# Make sure to check the box that says \"Add Python X.X to PATH\" during installation (replace \"X.X\" with the version number).\n",
    "# Click \"Install Now\" to start the installation.\n",
    "# Complete the Installation:\n",
    "\n",
    "# The installer will extract and install Python on your system.\n",
    "# Make sure to check the box that says \"Disable path length limit\" if your application requires it.\n",
    "# Click \"Close\" when the installation is complete.\n",
    "# Verify Installation:\n",
    "# Open a Command Prompt:\n",
    "\n",
    "# Press Win + R to open the Run dialog, type cmd, and press Enter.\n",
    "# Check Python Version:\n",
    "\n",
    "# In the Command Prompt, type the following command to check the installed Python version:"
   ]
  },
  {
   "cell_type": "code",
   "execution_count": 53,
   "id": "ca70bd1c-97f6-4d98-bf7c-0f4510ec37af",
   "metadata": {},
   "outputs": [],
   "source": [
    "# Set PATH Variable (Optional):\n",
    "# Setting the PATH variable allows you to run Python from any command prompt window without specifying the full path to the Python executable. The installation process usually takes care of this, but if not, or if you encounter issues, you can set it manually.\n",
    "\n",
    "# Find Python Installation Path:\n",
    "\n",
    "# Find the path where Python is installed. This is typically something like C:\\Users\\YourUsername\\AppData\\Local\\Programs\\Python\\PythonX.X (replace \"YourUsername\" and \"X.X\" with your username and the Python version).\n",
    "# Set PATH Variable:\n",
    "\n",
    "# Right-click on \"This PC\" or \"Computer\" on your desktop or in File Explorer and select \"Properties.\"\n",
    "# Click on \"Advanced system settings\" on the left.\n",
    "# Click on the \"Environment Variables...\" button.\n",
    "# In the \"System variables\" section, find and select the \"Path\" variable, then click \"Edit.\"\n",
    "# Click \"New\" and add the path to the \"Scripts\" folder within your Python installation (e.g., C:\\Users\\YourUsername\\AppData\\Local\\Programs\\Python\\PythonX.X\\Scripts).\n",
    "# Click \"OK\" to close each dialog box.\n",
    "# Verify PATH Variable:\n",
    "\n",
    "# Open a new Command Prompt window and type python --version or python3 --version to ensure Python is accessible from any location.\n",
    "# Now you have Python installed on your Windows system, and you should be able to run Python commands from the command prompt."
   ]
  },
  {
   "cell_type": "code",
   "execution_count": 54,
   "id": "8b2c850f-e877-49a1-ad21-08a911fb33a3",
   "metadata": {},
   "outputs": [],
   "source": [
    "#q16 is indentation required in python"
   ]
  },
  {
   "cell_type": "code",
   "execution_count": 55,
   "id": "7bbce699-9746-40c9-88a6-93dcfca6c7cc",
   "metadata": {},
   "outputs": [],
   "source": [
    "# Yes, indentation is required in Python. Unlike many other programming languages that use braces {} to indicate blocks of code, Python uses indentation to define the structure and scope of code. Consistent indentation is a fundamental part of the Python syntax.\n",
    "\n",
    "# Here's an example to illustrate the use of indentation in Python:\n",
    "\n",
    "# python\n",
    "# Copy code\n",
    "# if True:\n",
    "#     print(\"This line is indented, indicating it belongs to the 'if' block.\")\n",
    "#     print(\"These lines are also part of the 'if' block.\")\n",
    "\n",
    "# print(\"This line is not indented, so it's not part of the 'if' block.\")\n",
    "# In the example above, the indentation (spaces or tabs at the beginning of lines) is crucial for determining which lines of code belong to the if block. The indented lines are executed only if the condition True is satisfied.\n",
    "\n",
    "# The Python style guide, known as PEP 8, recommends using four spaces for each level of indentation. This consistency in indentation enhances code readability and helps maintain a clean and organized structure.\n",
    "\n",
    "# It's important to note that incorrect indentation can lead to syntax errors or, more critically, alter the logical flow of the code. Therefore, attention to indentation is a key aspect of writing correct Python programs."
   ]
  },
  {
   "cell_type": "code",
   "execution_count": 56,
   "id": "f973d23d-dd41-4d6d-a74d-ddc3d8d9923b",
   "metadata": {},
   "outputs": [
    {
     "name": "stdout",
     "output_type": "stream",
     "text": [
      "This line is indented, indicating it belongs to the 'if' block.\n",
      "These lines are also part of the 'if' block.\n",
      "This line is not indented, so it's not part of the 'if' block.\n"
     ]
    }
   ],
   "source": [
    "if True:\n",
    "    print(\"This line is indented, indicating it belongs to the 'if' block.\")\n",
    "    print(\"These lines are also part of the 'if' block.\")\n",
    "\n",
    "print(\"This line is not indented, so it's not part of the 'if' block.\")"
   ]
  },
  {
   "cell_type": "code",
   "execution_count": null,
   "id": "5a98dbaf-2b63-4356-9e6e-905d9377e67c",
   "metadata": {},
   "outputs": [],
   "source": []
  }
 ],
 "metadata": {
  "kernelspec": {
   "display_name": "Python 3 (ipykernel)",
   "language": "python",
   "name": "python3"
  },
  "language_info": {
   "codemirror_mode": {
    "name": "ipython",
    "version": 3
   },
   "file_extension": ".py",
   "mimetype": "text/x-python",
   "name": "python",
   "nbconvert_exporter": "python",
   "pygments_lexer": "ipython3",
   "version": "3.10.8"
  }
 },
 "nbformat": 4,
 "nbformat_minor": 5
}
